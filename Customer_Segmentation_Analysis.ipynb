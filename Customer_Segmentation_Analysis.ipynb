{
 "cells": [
  {
   "cell_type": "markdown",
   "id": "1ecd8f46",
   "metadata": {},
   "source": [
    "# Customer Behavior Segmentation Analysis\n",
    "\n",
    "## Introduction\n",
    "---\n",
    "    \n",
    "## Preparing the environment"
   ]
  },
  {
   "cell_type": "code",
   "execution_count": null,
   "id": "4f7f3573",
   "metadata": {},
   "outputs": [],
   "source": [
    "# Import libraries and alias for easy reading\n",
    "import numpy  as np\n",
    "import pandas as pd"
   ]
  },
  {
   "cell_type": "code",
   "execution_count": null,
   "id": "7780390a",
   "metadata": {},
   "outputs": [],
   "source": [
    "# Read in data in CSV format\n",
    "customers = pd.read_csv('/Customer-Segmentation-Analysis/customer_purchase.csv')"
   ]
  },
  {
   "cell_type": "markdown",
   "id": "e6127a1f",
   "metadata": {},
   "source": []
  }
 ],
 "metadata": {
  "kernelspec": {
   "display_name": "Python 3",
   "language": "python",
   "name": "python3"
  },
  "language_info": {
   "codemirror_mode": {
    "name": "ipython",
    "version": 3
   },
   "file_extension": ".py",
   "mimetype": "text/x-python",
   "name": "python",
   "nbconvert_exporter": "python",
   "pygments_lexer": "ipython3",
   "version": "3.13.3"
  }
 },
 "nbformat": 4,
 "nbformat_minor": 5
}
