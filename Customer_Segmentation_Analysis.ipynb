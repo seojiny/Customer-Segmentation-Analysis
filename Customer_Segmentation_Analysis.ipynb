{
 "cells": [
  {
   "cell_type": "markdown",
   "id": "1ecd8f46",
   "metadata": {},
   "source": [
    "# Customer Behavior Segmentation Analysis\n",
    "\n",
    "## Introduction\n",
    "\n",
    "This dataset contains information about customers and their purchases for an apparel store. It includes demographics, purchase history, product preferences, and more. \n",
    "\n",
    "<br>\n",
    "\n",
    "The **main goal** of this analysis is to:\n",
    "* Determine customer segments from purchase behavior\n",
    "\n",
    "* Identify opportunities for targeted marketing strategies that drive revenue and growth\n",
    "\n",
    "<br>\n",
    "\n",
    "**Business Questions**:\n",
    "\n",
    "* What are the customer segments based on purchase behavior?\n",
    "\n",
    "* What customers are currently driving the most revenue?\n",
    "\n",
    "* Which customers purchase the most frequently?\n",
    "\n",
    "* Which customers uses promotions or discounts the most?\n",
    "\n",
    "* Are there customers we could likely convert to subsciption?\n",
    "\n",
    "* What products and categories are most popular? \n",
    "\n",
    "* When is the best season to promote the business?\n",
    "\n",
    "<br>\n",
    "\n",
    "**Assumptions**: \n",
    "* The store mainly sells modern, professional, and casual clothing. They are a popular destination for workwear, known for their minimalist styles and high-quality fabrics.\n",
    "\n",
    "* They do seasonal releases for certain apparel, and offer promo codes or discounts throughout the year.\n",
    "\n",
    "* Subscription Status refers to registration of using an account to purchase from the store. Customers who are subscribed can also opt-in to receive email communications and receive rewards or benefits. \n",
    "\n",
    "\n"
   ]
  },
  {
   "cell_type": "markdown",
   "id": "70ab147a",
   "metadata": {},
   "source": [
    "---\n",
    "## Data Preparation and Cleaning"
   ]
  },
  {
   "cell_type": "markdown",
   "id": "1b38ce5e",
   "metadata": {},
   "source": [
    "**Preparing the environment**"
   ]
  },
  {
   "cell_type": "code",
   "execution_count": null,
   "id": "4f7f3573",
   "metadata": {},
   "outputs": [],
   "source": [
    "# Import libraries and alias for easy reading\n",
    "import numpy  as np\n",
    "import pandas as pd\n",
    "import matplotlib.pyplot as plt\n",
    "import seaborn as sns\n",
    "from sklearn.cluster import KMeans\n",
    "from sklearn.preprocessing import StandardScaler"
   ]
  },
  {
   "cell_type": "code",
   "execution_count": 146,
   "id": "7780390a",
   "metadata": {},
   "outputs": [],
   "source": [
    "# Read & load the datatset into a dataframe\n",
    "customers = pd.read_csv('customer_purchase.csv')"
   ]
  },
  {
   "cell_type": "markdown",
   "id": "b8610189",
   "metadata": {},
   "source": [
    "**Viewing the data & understanding its shape and contents**"
   ]
  },
  {
   "cell_type": "code",
   "execution_count": 3,
   "id": "e07d3d42",
   "metadata": {},
   "outputs": [
    {
     "data": {
      "text/html": [
       "<div>\n",
       "<style scoped>\n",
       "    .dataframe tbody tr th:only-of-type {\n",
       "        vertical-align: middle;\n",
       "    }\n",
       "\n",
       "    .dataframe tbody tr th {\n",
       "        vertical-align: top;\n",
       "    }\n",
       "\n",
       "    .dataframe thead th {\n",
       "        text-align: right;\n",
       "    }\n",
       "</style>\n",
       "<table border=\"1\" class=\"dataframe\">\n",
       "  <thead>\n",
       "    <tr style=\"text-align: right;\">\n",
       "      <th></th>\n",
       "      <th>Customer ID</th>\n",
       "      <th>Age</th>\n",
       "      <th>Gender</th>\n",
       "      <th>Item Purchased</th>\n",
       "      <th>Category</th>\n",
       "      <th>Purchase Amount (USD)</th>\n",
       "      <th>Location</th>\n",
       "      <th>Size</th>\n",
       "      <th>Color</th>\n",
       "      <th>Season</th>\n",
       "      <th>Review Rating</th>\n",
       "      <th>Subscription Status</th>\n",
       "      <th>Shipping Type</th>\n",
       "      <th>Discount Applied</th>\n",
       "      <th>Promo Code Used</th>\n",
       "      <th>Previous Purchases</th>\n",
       "      <th>Payment Method</th>\n",
       "      <th>Frequency of Purchases</th>\n",
       "    </tr>\n",
       "  </thead>\n",
       "  <tbody>\n",
       "    <tr>\n",
       "      <th>0</th>\n",
       "      <td>1</td>\n",
       "      <td>55</td>\n",
       "      <td>Male</td>\n",
       "      <td>Blouse</td>\n",
       "      <td>Clothing</td>\n",
       "      <td>53</td>\n",
       "      <td>Kentucky</td>\n",
       "      <td>L</td>\n",
       "      <td>Gray</td>\n",
       "      <td>Winter</td>\n",
       "      <td>3.1</td>\n",
       "      <td>Yes</td>\n",
       "      <td>Express</td>\n",
       "      <td>Yes</td>\n",
       "      <td>Yes</td>\n",
       "      <td>14</td>\n",
       "      <td>Venmo</td>\n",
       "      <td>Fortnightly</td>\n",
       "    </tr>\n",
       "    <tr>\n",
       "      <th>1</th>\n",
       "      <td>2</td>\n",
       "      <td>19</td>\n",
       "      <td>Male</td>\n",
       "      <td>Sweater</td>\n",
       "      <td>Clothing</td>\n",
       "      <td>64</td>\n",
       "      <td>Maine</td>\n",
       "      <td>L</td>\n",
       "      <td>Maroon</td>\n",
       "      <td>Winter</td>\n",
       "      <td>3.1</td>\n",
       "      <td>Yes</td>\n",
       "      <td>Express</td>\n",
       "      <td>Yes</td>\n",
       "      <td>Yes</td>\n",
       "      <td>2</td>\n",
       "      <td>Cash</td>\n",
       "      <td>Fortnightly</td>\n",
       "    </tr>\n",
       "    <tr>\n",
       "      <th>2</th>\n",
       "      <td>3</td>\n",
       "      <td>50</td>\n",
       "      <td>Male</td>\n",
       "      <td>Jeans</td>\n",
       "      <td>Clothing</td>\n",
       "      <td>73</td>\n",
       "      <td>Massachusetts</td>\n",
       "      <td>S</td>\n",
       "      <td>Maroon</td>\n",
       "      <td>Spring</td>\n",
       "      <td>3.1</td>\n",
       "      <td>Yes</td>\n",
       "      <td>Free Shipping</td>\n",
       "      <td>Yes</td>\n",
       "      <td>Yes</td>\n",
       "      <td>23</td>\n",
       "      <td>Credit Card</td>\n",
       "      <td>Weekly</td>\n",
       "    </tr>\n",
       "    <tr>\n",
       "      <th>3</th>\n",
       "      <td>4</td>\n",
       "      <td>21</td>\n",
       "      <td>Male</td>\n",
       "      <td>Sandals</td>\n",
       "      <td>Footwear</td>\n",
       "      <td>90</td>\n",
       "      <td>Rhode Island</td>\n",
       "      <td>M</td>\n",
       "      <td>Maroon</td>\n",
       "      <td>Spring</td>\n",
       "      <td>3.5</td>\n",
       "      <td>Yes</td>\n",
       "      <td>Next Day Air</td>\n",
       "      <td>Yes</td>\n",
       "      <td>Yes</td>\n",
       "      <td>49</td>\n",
       "      <td>PayPal</td>\n",
       "      <td>Weekly</td>\n",
       "    </tr>\n",
       "    <tr>\n",
       "      <th>4</th>\n",
       "      <td>5</td>\n",
       "      <td>45</td>\n",
       "      <td>Male</td>\n",
       "      <td>Blouse</td>\n",
       "      <td>Clothing</td>\n",
       "      <td>49</td>\n",
       "      <td>Oregon</td>\n",
       "      <td>M</td>\n",
       "      <td>Turquoise</td>\n",
       "      <td>Spring</td>\n",
       "      <td>2.7</td>\n",
       "      <td>Yes</td>\n",
       "      <td>Free Shipping</td>\n",
       "      <td>Yes</td>\n",
       "      <td>Yes</td>\n",
       "      <td>31</td>\n",
       "      <td>PayPal</td>\n",
       "      <td>Annually</td>\n",
       "    </tr>\n",
       "  </tbody>\n",
       "</table>\n",
       "</div>"
      ],
      "text/plain": [
       "   Customer ID  Age Gender Item Purchased  Category  Purchase Amount (USD)  \\\n",
       "0            1   55   Male         Blouse  Clothing                     53   \n",
       "1            2   19   Male        Sweater  Clothing                     64   \n",
       "2            3   50   Male          Jeans  Clothing                     73   \n",
       "3            4   21   Male        Sandals  Footwear                     90   \n",
       "4            5   45   Male         Blouse  Clothing                     49   \n",
       "\n",
       "        Location Size      Color  Season  Review Rating Subscription Status  \\\n",
       "0       Kentucky    L       Gray  Winter            3.1                 Yes   \n",
       "1          Maine    L     Maroon  Winter            3.1                 Yes   \n",
       "2  Massachusetts    S     Maroon  Spring            3.1                 Yes   \n",
       "3   Rhode Island    M     Maroon  Spring            3.5                 Yes   \n",
       "4         Oregon    M  Turquoise  Spring            2.7                 Yes   \n",
       "\n",
       "   Shipping Type Discount Applied Promo Code Used  Previous Purchases  \\\n",
       "0        Express              Yes             Yes                  14   \n",
       "1        Express              Yes             Yes                   2   \n",
       "2  Free Shipping              Yes             Yes                  23   \n",
       "3   Next Day Air              Yes             Yes                  49   \n",
       "4  Free Shipping              Yes             Yes                  31   \n",
       "\n",
       "  Payment Method Frequency of Purchases  \n",
       "0          Venmo            Fortnightly  \n",
       "1           Cash            Fortnightly  \n",
       "2    Credit Card                 Weekly  \n",
       "3         PayPal                 Weekly  \n",
       "4         PayPal               Annually  "
      ]
     },
     "execution_count": 3,
     "metadata": {},
     "output_type": "execute_result"
    }
   ],
   "source": [
    "# Preview first 5 rows of data set\n",
    "customers.head()"
   ]
  },
  {
   "cell_type": "markdown",
   "id": "748dc8cd",
   "metadata": {},
   "source": [
    "There is a mix of categorical, numerical, and geographical variables.\n",
    "\n",
    "Each row represents a unique customer with details about them such as age, gender, as well as the purchase they made. There is also information on the customer's behavior such as previous purhcases and their frequency of purchases."
   ]
  },
  {
   "cell_type": "code",
   "execution_count": 4,
   "id": "24ea9cb3",
   "metadata": {},
   "outputs": [
    {
     "name": "stdout",
     "output_type": "stream",
     "text": [
      "<class 'pandas.core.frame.DataFrame'>\n",
      "RangeIndex: 3900 entries, 0 to 3899\n",
      "Data columns (total 18 columns):\n",
      " #   Column                  Non-Null Count  Dtype  \n",
      "---  ------                  --------------  -----  \n",
      " 0   Customer ID             3900 non-null   int64  \n",
      " 1   Age                     3900 non-null   int64  \n",
      " 2   Gender                  3900 non-null   object \n",
      " 3   Item Purchased          3900 non-null   object \n",
      " 4   Category                3900 non-null   object \n",
      " 5   Purchase Amount (USD)   3900 non-null   int64  \n",
      " 6   Location                3900 non-null   object \n",
      " 7   Size                    3900 non-null   object \n",
      " 8   Color                   3900 non-null   object \n",
      " 9   Season                  3900 non-null   object \n",
      " 10  Review Rating           3900 non-null   float64\n",
      " 11  Subscription Status     3900 non-null   object \n",
      " 12  Shipping Type           3900 non-null   object \n",
      " 13  Discount Applied        3900 non-null   object \n",
      " 14  Promo Code Used         3900 non-null   object \n",
      " 15  Previous Purchases      3900 non-null   int64  \n",
      " 16  Payment Method          3900 non-null   object \n",
      " 17  Frequency of Purchases  3900 non-null   object \n",
      "dtypes: float64(1), int64(4), object(13)\n",
      "memory usage: 548.6+ KB\n"
     ]
    }
   ],
   "source": [
    "#Looking at the structure of the data & summarized information\n",
    "customers.info()"
   ]
  },
  {
   "cell_type": "markdown",
   "id": "e4f517a8",
   "metadata": {},
   "source": [
    "There are 3,900 rows including the header and 18 columns. Data types are correct and match the corresponding values."
   ]
  },
  {
   "cell_type": "markdown",
   "id": "cc48c825",
   "metadata": {},
   "source": [
    "**Checking for duplicates**"
   ]
  },
  {
   "cell_type": "code",
   "execution_count": 5,
   "id": "aa767873",
   "metadata": {},
   "outputs": [
    {
     "name": "stdout",
     "output_type": "stream",
     "text": [
      "Number of duplicate rows = 0\n"
     ]
    }
   ],
   "source": [
    "dups = customers.duplicated()\n",
    "print('Number of duplicate rows = %d' % (dups.sum()))"
   ]
  },
  {
   "cell_type": "markdown",
   "id": "b199e8fa",
   "metadata": {},
   "source": [
    "**Checking for missing values**"
   ]
  },
  {
   "cell_type": "code",
   "execution_count": 6,
   "id": "26308847",
   "metadata": {},
   "outputs": [
    {
     "name": "stdout",
     "output_type": "stream",
     "text": [
      "Number of missing values = 0\n"
     ]
    }
   ],
   "source": [
    "missing = customers.isnull()\n",
    "print('Number of missing values = %d' % (missing.sum().sum()))"
   ]
  },
  {
   "cell_type": "markdown",
   "id": "ae9957c4",
   "metadata": {},
   "source": [
    "**Standardization**"
   ]
  },
  {
   "cell_type": "code",
   "execution_count": 147,
   "id": "cf764eac",
   "metadata": {},
   "outputs": [],
   "source": [
    "# Adding Underscores to column names\n",
    "customers.rename(columns={'Purchase Amount (USD)': 'Purchase_Amount'}, inplace=True)\n",
    "customers.columns = customers.columns.str.replace(' ', '_')\n",
    "\n",
    "# Values of Frequency of Purchases column are interchangeable \n",
    "customers['Frequency_of_Purchases'] = customers['Frequency_of_Purchases'].replace({\n",
    "    'Bi-Weekly': 'Fortnightly',\n",
    "    'Every 3 Months': 'Quarterly'\n",
    "})\n",
    "\n",
    "# We don't need size, color columns for analysis."
   ]
  },
  {
   "cell_type": "markdown",
   "id": "1350d576",
   "metadata": {},
   "source": [
    "After checking the dataset, it was mainly clean and ready for analysis."
   ]
  },
  {
   "cell_type": "markdown",
   "id": "a3fd0d58",
   "metadata": {},
   "source": [
    "---\n",
    "## Summary Statistics"
   ]
  },
  {
   "cell_type": "code",
   "execution_count": 5,
   "id": "3ef966ee",
   "metadata": {},
   "outputs": [
    {
     "data": {
      "text/html": [
       "<div>\n",
       "<style scoped>\n",
       "    .dataframe tbody tr th:only-of-type {\n",
       "        vertical-align: middle;\n",
       "    }\n",
       "\n",
       "    .dataframe tbody tr th {\n",
       "        vertical-align: top;\n",
       "    }\n",
       "\n",
       "    .dataframe thead th {\n",
       "        text-align: right;\n",
       "    }\n",
       "</style>\n",
       "<table border=\"1\" class=\"dataframe\">\n",
       "  <thead>\n",
       "    <tr style=\"text-align: right;\">\n",
       "      <th></th>\n",
       "      <th>Customer_ID</th>\n",
       "      <th>Age</th>\n",
       "      <th>Gender</th>\n",
       "      <th>Item_Purchased</th>\n",
       "      <th>Category</th>\n",
       "      <th>Purchase_Amount</th>\n",
       "      <th>Location</th>\n",
       "      <th>Size</th>\n",
       "      <th>Color</th>\n",
       "      <th>Season</th>\n",
       "      <th>Review_Rating</th>\n",
       "      <th>Subscription_Status</th>\n",
       "      <th>Shipping_Type</th>\n",
       "      <th>Discount_Applied</th>\n",
       "      <th>Promo_Code_Used</th>\n",
       "      <th>Previous_Purchases</th>\n",
       "      <th>Payment_Method</th>\n",
       "      <th>Frequency_of_Purchases</th>\n",
       "    </tr>\n",
       "  </thead>\n",
       "  <tbody>\n",
       "    <tr>\n",
       "      <th>count</th>\n",
       "      <td>3900.000000</td>\n",
       "      <td>3900.000000</td>\n",
       "      <td>3900</td>\n",
       "      <td>3900</td>\n",
       "      <td>3900</td>\n",
       "      <td>3900.000000</td>\n",
       "      <td>3900</td>\n",
       "      <td>3900</td>\n",
       "      <td>3900</td>\n",
       "      <td>3900</td>\n",
       "      <td>3900.000000</td>\n",
       "      <td>3900</td>\n",
       "      <td>3900</td>\n",
       "      <td>3900</td>\n",
       "      <td>3900</td>\n",
       "      <td>3900.000000</td>\n",
       "      <td>3900</td>\n",
       "      <td>3900</td>\n",
       "    </tr>\n",
       "    <tr>\n",
       "      <th>unique</th>\n",
       "      <td>NaN</td>\n",
       "      <td>NaN</td>\n",
       "      <td>2</td>\n",
       "      <td>25</td>\n",
       "      <td>4</td>\n",
       "      <td>NaN</td>\n",
       "      <td>50</td>\n",
       "      <td>4</td>\n",
       "      <td>25</td>\n",
       "      <td>4</td>\n",
       "      <td>NaN</td>\n",
       "      <td>2</td>\n",
       "      <td>6</td>\n",
       "      <td>2</td>\n",
       "      <td>2</td>\n",
       "      <td>NaN</td>\n",
       "      <td>6</td>\n",
       "      <td>5</td>\n",
       "    </tr>\n",
       "    <tr>\n",
       "      <th>top</th>\n",
       "      <td>NaN</td>\n",
       "      <td>NaN</td>\n",
       "      <td>Male</td>\n",
       "      <td>Blouse</td>\n",
       "      <td>Clothing</td>\n",
       "      <td>NaN</td>\n",
       "      <td>Montana</td>\n",
       "      <td>M</td>\n",
       "      <td>Olive</td>\n",
       "      <td>Spring</td>\n",
       "      <td>NaN</td>\n",
       "      <td>No</td>\n",
       "      <td>Free Shipping</td>\n",
       "      <td>No</td>\n",
       "      <td>No</td>\n",
       "      <td>NaN</td>\n",
       "      <td>PayPal</td>\n",
       "      <td>Quarterly</td>\n",
       "    </tr>\n",
       "    <tr>\n",
       "      <th>freq</th>\n",
       "      <td>NaN</td>\n",
       "      <td>NaN</td>\n",
       "      <td>2652</td>\n",
       "      <td>171</td>\n",
       "      <td>1737</td>\n",
       "      <td>NaN</td>\n",
       "      <td>96</td>\n",
       "      <td>1755</td>\n",
       "      <td>177</td>\n",
       "      <td>999</td>\n",
       "      <td>NaN</td>\n",
       "      <td>2847</td>\n",
       "      <td>675</td>\n",
       "      <td>2223</td>\n",
       "      <td>2223</td>\n",
       "      <td>NaN</td>\n",
       "      <td>677</td>\n",
       "      <td>1147</td>\n",
       "    </tr>\n",
       "    <tr>\n",
       "      <th>mean</th>\n",
       "      <td>1950.500000</td>\n",
       "      <td>44.068462</td>\n",
       "      <td>NaN</td>\n",
       "      <td>NaN</td>\n",
       "      <td>NaN</td>\n",
       "      <td>59.764359</td>\n",
       "      <td>NaN</td>\n",
       "      <td>NaN</td>\n",
       "      <td>NaN</td>\n",
       "      <td>NaN</td>\n",
       "      <td>3.749949</td>\n",
       "      <td>NaN</td>\n",
       "      <td>NaN</td>\n",
       "      <td>NaN</td>\n",
       "      <td>NaN</td>\n",
       "      <td>25.351538</td>\n",
       "      <td>NaN</td>\n",
       "      <td>NaN</td>\n",
       "    </tr>\n",
       "    <tr>\n",
       "      <th>std</th>\n",
       "      <td>1125.977353</td>\n",
       "      <td>15.207589</td>\n",
       "      <td>NaN</td>\n",
       "      <td>NaN</td>\n",
       "      <td>NaN</td>\n",
       "      <td>23.685392</td>\n",
       "      <td>NaN</td>\n",
       "      <td>NaN</td>\n",
       "      <td>NaN</td>\n",
       "      <td>NaN</td>\n",
       "      <td>0.716223</td>\n",
       "      <td>NaN</td>\n",
       "      <td>NaN</td>\n",
       "      <td>NaN</td>\n",
       "      <td>NaN</td>\n",
       "      <td>14.447125</td>\n",
       "      <td>NaN</td>\n",
       "      <td>NaN</td>\n",
       "    </tr>\n",
       "    <tr>\n",
       "      <th>min</th>\n",
       "      <td>1.000000</td>\n",
       "      <td>18.000000</td>\n",
       "      <td>NaN</td>\n",
       "      <td>NaN</td>\n",
       "      <td>NaN</td>\n",
       "      <td>20.000000</td>\n",
       "      <td>NaN</td>\n",
       "      <td>NaN</td>\n",
       "      <td>NaN</td>\n",
       "      <td>NaN</td>\n",
       "      <td>2.500000</td>\n",
       "      <td>NaN</td>\n",
       "      <td>NaN</td>\n",
       "      <td>NaN</td>\n",
       "      <td>NaN</td>\n",
       "      <td>1.000000</td>\n",
       "      <td>NaN</td>\n",
       "      <td>NaN</td>\n",
       "    </tr>\n",
       "    <tr>\n",
       "      <th>25%</th>\n",
       "      <td>975.750000</td>\n",
       "      <td>31.000000</td>\n",
       "      <td>NaN</td>\n",
       "      <td>NaN</td>\n",
       "      <td>NaN</td>\n",
       "      <td>39.000000</td>\n",
       "      <td>NaN</td>\n",
       "      <td>NaN</td>\n",
       "      <td>NaN</td>\n",
       "      <td>NaN</td>\n",
       "      <td>3.100000</td>\n",
       "      <td>NaN</td>\n",
       "      <td>NaN</td>\n",
       "      <td>NaN</td>\n",
       "      <td>NaN</td>\n",
       "      <td>13.000000</td>\n",
       "      <td>NaN</td>\n",
       "      <td>NaN</td>\n",
       "    </tr>\n",
       "    <tr>\n",
       "      <th>50%</th>\n",
       "      <td>1950.500000</td>\n",
       "      <td>44.000000</td>\n",
       "      <td>NaN</td>\n",
       "      <td>NaN</td>\n",
       "      <td>NaN</td>\n",
       "      <td>60.000000</td>\n",
       "      <td>NaN</td>\n",
       "      <td>NaN</td>\n",
       "      <td>NaN</td>\n",
       "      <td>NaN</td>\n",
       "      <td>3.700000</td>\n",
       "      <td>NaN</td>\n",
       "      <td>NaN</td>\n",
       "      <td>NaN</td>\n",
       "      <td>NaN</td>\n",
       "      <td>25.000000</td>\n",
       "      <td>NaN</td>\n",
       "      <td>NaN</td>\n",
       "    </tr>\n",
       "    <tr>\n",
       "      <th>75%</th>\n",
       "      <td>2925.250000</td>\n",
       "      <td>57.000000</td>\n",
       "      <td>NaN</td>\n",
       "      <td>NaN</td>\n",
       "      <td>NaN</td>\n",
       "      <td>81.000000</td>\n",
       "      <td>NaN</td>\n",
       "      <td>NaN</td>\n",
       "      <td>NaN</td>\n",
       "      <td>NaN</td>\n",
       "      <td>4.400000</td>\n",
       "      <td>NaN</td>\n",
       "      <td>NaN</td>\n",
       "      <td>NaN</td>\n",
       "      <td>NaN</td>\n",
       "      <td>38.000000</td>\n",
       "      <td>NaN</td>\n",
       "      <td>NaN</td>\n",
       "    </tr>\n",
       "    <tr>\n",
       "      <th>max</th>\n",
       "      <td>3900.000000</td>\n",
       "      <td>70.000000</td>\n",
       "      <td>NaN</td>\n",
       "      <td>NaN</td>\n",
       "      <td>NaN</td>\n",
       "      <td>100.000000</td>\n",
       "      <td>NaN</td>\n",
       "      <td>NaN</td>\n",
       "      <td>NaN</td>\n",
       "      <td>NaN</td>\n",
       "      <td>5.000000</td>\n",
       "      <td>NaN</td>\n",
       "      <td>NaN</td>\n",
       "      <td>NaN</td>\n",
       "      <td>NaN</td>\n",
       "      <td>50.000000</td>\n",
       "      <td>NaN</td>\n",
       "      <td>NaN</td>\n",
       "    </tr>\n",
       "  </tbody>\n",
       "</table>\n",
       "</div>"
      ],
      "text/plain": [
       "        Customer_ID          Age Gender Item_Purchased  Category  \\\n",
       "count   3900.000000  3900.000000   3900           3900      3900   \n",
       "unique          NaN          NaN      2             25         4   \n",
       "top             NaN          NaN   Male         Blouse  Clothing   \n",
       "freq            NaN          NaN   2652            171      1737   \n",
       "mean    1950.500000    44.068462    NaN            NaN       NaN   \n",
       "std     1125.977353    15.207589    NaN            NaN       NaN   \n",
       "min        1.000000    18.000000    NaN            NaN       NaN   \n",
       "25%      975.750000    31.000000    NaN            NaN       NaN   \n",
       "50%     1950.500000    44.000000    NaN            NaN       NaN   \n",
       "75%     2925.250000    57.000000    NaN            NaN       NaN   \n",
       "max     3900.000000    70.000000    NaN            NaN       NaN   \n",
       "\n",
       "        Purchase_Amount Location  Size  Color  Season  Review_Rating  \\\n",
       "count       3900.000000     3900  3900   3900    3900    3900.000000   \n",
       "unique              NaN       50     4     25       4            NaN   \n",
       "top                 NaN  Montana     M  Olive  Spring            NaN   \n",
       "freq                NaN       96  1755    177     999            NaN   \n",
       "mean          59.764359      NaN   NaN    NaN     NaN       3.749949   \n",
       "std           23.685392      NaN   NaN    NaN     NaN       0.716223   \n",
       "min           20.000000      NaN   NaN    NaN     NaN       2.500000   \n",
       "25%           39.000000      NaN   NaN    NaN     NaN       3.100000   \n",
       "50%           60.000000      NaN   NaN    NaN     NaN       3.700000   \n",
       "75%           81.000000      NaN   NaN    NaN     NaN       4.400000   \n",
       "max          100.000000      NaN   NaN    NaN     NaN       5.000000   \n",
       "\n",
       "       Subscription_Status  Shipping_Type Discount_Applied Promo_Code_Used  \\\n",
       "count                 3900           3900             3900            3900   \n",
       "unique                   2              6                2               2   \n",
       "top                     No  Free Shipping               No              No   \n",
       "freq                  2847            675             2223            2223   \n",
       "mean                   NaN            NaN              NaN             NaN   \n",
       "std                    NaN            NaN              NaN             NaN   \n",
       "min                    NaN            NaN              NaN             NaN   \n",
       "25%                    NaN            NaN              NaN             NaN   \n",
       "50%                    NaN            NaN              NaN             NaN   \n",
       "75%                    NaN            NaN              NaN             NaN   \n",
       "max                    NaN            NaN              NaN             NaN   \n",
       "\n",
       "        Previous_Purchases Payment_Method Frequency_of_Purchases  \n",
       "count          3900.000000           3900                   3900  \n",
       "unique                 NaN              6                      5  \n",
       "top                    NaN         PayPal              Quarterly  \n",
       "freq                   NaN            677                   1147  \n",
       "mean             25.351538            NaN                    NaN  \n",
       "std              14.447125            NaN                    NaN  \n",
       "min               1.000000            NaN                    NaN  \n",
       "25%              13.000000            NaN                    NaN  \n",
       "50%              25.000000            NaN                    NaN  \n",
       "75%              38.000000            NaN                    NaN  \n",
       "max              50.000000            NaN                    NaN  "
      ]
     },
     "execution_count": 5,
     "metadata": {},
     "output_type": "execute_result"
    }
   ],
   "source": [
    "# Get descriptive statistics summary\n",
    "customers.describe(include = \"all\")"
   ]
  },
  {
   "cell_type": "code",
   "execution_count": 10,
   "id": "661612b7",
   "metadata": {},
   "outputs": [
    {
     "data": {
      "text/html": [
       "<div>\n",
       "<style scoped>\n",
       "    .dataframe tbody tr th:only-of-type {\n",
       "        vertical-align: middle;\n",
       "    }\n",
       "\n",
       "    .dataframe tbody tr th {\n",
       "        vertical-align: top;\n",
       "    }\n",
       "\n",
       "    .dataframe thead th {\n",
       "        text-align: right;\n",
       "    }\n",
       "</style>\n",
       "<table border=\"1\" class=\"dataframe\">\n",
       "  <thead>\n",
       "    <tr style=\"text-align: right;\">\n",
       "      <th></th>\n",
       "      <th>count</th>\n",
       "      <th>mean</th>\n",
       "      <th>std</th>\n",
       "      <th>min</th>\n",
       "      <th>25%</th>\n",
       "      <th>50%</th>\n",
       "      <th>75%</th>\n",
       "      <th>max</th>\n",
       "    </tr>\n",
       "  </thead>\n",
       "  <tbody>\n",
       "    <tr>\n",
       "      <th>Customer_ID</th>\n",
       "      <td>3900.0</td>\n",
       "      <td>1950.500000</td>\n",
       "      <td>1125.977353</td>\n",
       "      <td>1.0</td>\n",
       "      <td>975.75</td>\n",
       "      <td>1950.5</td>\n",
       "      <td>2925.25</td>\n",
       "      <td>3900.0</td>\n",
       "    </tr>\n",
       "    <tr>\n",
       "      <th>Age</th>\n",
       "      <td>3900.0</td>\n",
       "      <td>44.068462</td>\n",
       "      <td>15.207589</td>\n",
       "      <td>18.0</td>\n",
       "      <td>31.00</td>\n",
       "      <td>44.0</td>\n",
       "      <td>57.00</td>\n",
       "      <td>70.0</td>\n",
       "    </tr>\n",
       "    <tr>\n",
       "      <th>Purchase_Amount</th>\n",
       "      <td>3900.0</td>\n",
       "      <td>59.764359</td>\n",
       "      <td>23.685392</td>\n",
       "      <td>20.0</td>\n",
       "      <td>39.00</td>\n",
       "      <td>60.0</td>\n",
       "      <td>81.00</td>\n",
       "      <td>100.0</td>\n",
       "    </tr>\n",
       "    <tr>\n",
       "      <th>Review_Rating</th>\n",
       "      <td>3900.0</td>\n",
       "      <td>3.749949</td>\n",
       "      <td>0.716223</td>\n",
       "      <td>2.5</td>\n",
       "      <td>3.10</td>\n",
       "      <td>3.7</td>\n",
       "      <td>4.40</td>\n",
       "      <td>5.0</td>\n",
       "    </tr>\n",
       "    <tr>\n",
       "      <th>Previous_Purchases</th>\n",
       "      <td>3900.0</td>\n",
       "      <td>25.351538</td>\n",
       "      <td>14.447125</td>\n",
       "      <td>1.0</td>\n",
       "      <td>13.00</td>\n",
       "      <td>25.0</td>\n",
       "      <td>38.00</td>\n",
       "      <td>50.0</td>\n",
       "    </tr>\n",
       "  </tbody>\n",
       "</table>\n",
       "</div>"
      ],
      "text/plain": [
       "                     count         mean          std   min     25%     50%  \\\n",
       "Customer_ID         3900.0  1950.500000  1125.977353   1.0  975.75  1950.5   \n",
       "Age                 3900.0    44.068462    15.207589  18.0   31.00    44.0   \n",
       "Purchase_Amount     3900.0    59.764359    23.685392  20.0   39.00    60.0   \n",
       "Review_Rating       3900.0     3.749949     0.716223   2.5    3.10     3.7   \n",
       "Previous_Purchases  3900.0    25.351538    14.447125   1.0   13.00    25.0   \n",
       "\n",
       "                        75%     max  \n",
       "Customer_ID         2925.25  3900.0  \n",
       "Age                   57.00    70.0  \n",
       "Purchase_Amount       81.00   100.0  \n",
       "Review_Rating          4.40     5.0  \n",
       "Previous_Purchases    38.00    50.0  "
      ]
     },
     "execution_count": 10,
     "metadata": {},
     "output_type": "execute_result"
    }
   ],
   "source": [
    "customers.describe().T"
   ]
  },
  {
   "cell_type": "markdown",
   "id": "55501e57",
   "metadata": {},
   "source": [
    "Based on the summary statistics: \n",
    "\n",
    "* The average age of customers purchasing from this shop is 44 years old. Most of the customers are also male. \n",
    "\n",
    "* The most popular category purchased is clothing. The most popular item purchased is a blouse.\n",
    "\n",
    "* The most purchases happen in Spring.\n",
    "\n",
    "* Most customers are not subscribed and don't use discounts and/or promos.\n",
    "\n",
    "Further analysis of who the customers are and their purchase behavior to be done in the exploratory data analysis. "
   ]
  },
  {
   "cell_type": "markdown",
   "id": "0f44fbce",
   "metadata": {},
   "source": [
    "---\n",
    "## Exploratory Data Analysis"
   ]
  },
  {
   "cell_type": "markdown",
   "id": "e9777be9",
   "metadata": {},
   "source": [
    "Further analysis was done to gain more context and information about the data before performing predictive analysis."
   ]
  },
  {
   "cell_type": "code",
   "execution_count": null,
   "id": "b8c4b48a",
   "metadata": {},
   "outputs": [],
   "source": [
    "# Purchase Amounts by Gender and Age Groups\n",
    "bins = [18, 25, 35, 45, 55, 65, 80]\n",
    "labels = ['18–24', '25–34', '35–44', '45–54', '55–64', '65–80']\n",
    "\n",
    "customers['Age_Group'] = pd.cut(customers['Age'], bins=bins, labels=labels, right=False)\n",
    "gender_age_purhcase = customers.groupby(['Gender', 'Age_Group'])['Purchase_Amount'].sum().reset_index()"
   ]
  },
  {
   "cell_type": "code",
   "execution_count": null,
   "id": "09474bb6",
   "metadata": {},
   "outputs": [
    {
     "data": {
      "text/plain": [
       "<matplotlib.legend.Legend at 0x108faaad0>"
      ]
     },
     "execution_count": 130,
     "metadata": {},
     "output_type": "execute_result"
    },
    {
     "data": {
      "image/png": "[encoded data removed]",
      "text/plain": [
       "<Figure size 600x400 with 1 Axes>"
      ]
     },
     "metadata": {},
     "output_type": "display_data"
    }
   ],
   "source": [
    "# Visualizing revenue by age group and gender\n",
    "sns.set_theme(style = \"whitegrid\")\n",
    "\n",
    "plt.figure(figsize = (6, 4))\n",
    "sns.barplot(data = gender_age_purhcase, \n",
    "            x = 'Age_Group', \n",
    "            y = 'Purchase_Amount', \n",
    "            hue = 'Gender',\n",
    "            palette = 'Set2')\n",
    "\n",
    "plt.title('Purchase Amount by Age Group and Gender')\n",
    "plt.ylabel('Total Purchase Amount (USD)')\n",
    "plt.xlabel('Age Group')\n",
    "plt.legend(title='Gender')"
   ]
  },
  {
   "cell_type": "markdown",
   "id": "deb6abbc",
   "metadata": {},
   "source": [
    "* Overall, men seem to be the highest spenders, bringing the most revenue to the store. \n",
    "\n",
    "* Among them, the age range from 25 - 34 seem to spend the most, closely followed by age ranges 45 - 54, 35 - 44, and 55 - 64. "
   ]
  },
  {
   "cell_type": "code",
   "execution_count": 137,
   "id": "b9ea7ccd",
   "metadata": {},
   "outputs": [
    {
     "data": {
      "text/plain": [
       "([0, 1, 2, 3],\n",
       " [Text(0, 0, 'Accessories'),\n",
       "  Text(1, 0, 'Clothing'),\n",
       "  Text(2, 0, 'Footwear'),\n",
       "  Text(3, 0, 'Outerwear')])"
      ]
     },
     "execution_count": 137,
     "metadata": {},
     "output_type": "execute_result"
    },
    {
     "data": {
      "image/png": "[encoded data removed]",
      "text/plain": [
       "<Figure size 600x400 with 1 Axes>"
      ]
     },
     "metadata": {},
     "output_type": "display_data"
    }
   ],
   "source": [
    "# What cateogry generates the most revenue?\n",
    "category_analysis = pd.DataFrame(customers.groupby('Category')['Purchase_Amount'].sum())\n",
    "\n",
    "sns.set_theme(style = \"whitegrid\")\n",
    "\n",
    "plt.figure(figsize=(6, 4))\n",
    "sns.barplot(data = category_analysis,\n",
    "            x = 'Category',\n",
    "            y = 'Purchase_Amount',\n",
    "            color = 'steelblue')\n",
    "\n",
    "plt.title('Total Purchase Amount by Category')\n",
    "plt.xlabel('Category')\n",
    "plt.ylabel('Total Purchase Amount (USD)')\n",
    "plt.xticks(rotation=45)"
   ]
  },
  {
   "cell_type": "markdown",
   "id": "5fbd4e36",
   "metadata": {},
   "source": [
    "* Clothing is not only the most popular category, but also generates the most revenue. Followed closer by accessories, then footwear and outerwear."
   ]
  },
  {
   "cell_type": "code",
   "execution_count": 142,
   "id": "6adc8458",
   "metadata": {},
   "outputs": [
    {
     "name": "stdout",
     "output_type": "stream",
     "text": [
      "Number of customers coming back to purchase again: 3900\n",
      "Total customers: 3900\n"
     ]
    }
   ],
   "source": [
    "# Number of customers coming back to purchase again\n",
    "previous_count = (customers['Previous_Purchases'] > 0).sum()\n",
    "print(f\"Number of customers coming back to purchase again: {previous_count}\")\n",
    "\n",
    "total_customers = len(customers)\n",
    "print(f\"Total customers: {total_customers}\")"
   ]
  },
  {
   "cell_type": "markdown",
   "id": "946640ae",
   "metadata": {},
   "source": [
    "* All customers in this dataset from this store have previously purchased something before (returning customers)"
   ]
  },
  {
   "cell_type": "code",
   "execution_count": null,
   "id": "04970c05",
   "metadata": {},
   "outputs": [
    {
     "name": "stdout",
     "output_type": "stream",
     "text": [
      "Percentage (%) of customers who are subscribed: 27.00%\n",
      "\n",
      "Gender\n",
      "Female       0\n",
      "Male      1053\n",
      "Name: Subscription_Status, dtype: int64\n"
     ]
    }
   ],
   "source": [
    "# Percentage (%) of customers who are subscribed\n",
    "subscribed = (customers['Subscription_Status'] == 'Yes').sum()\n",
    "print(f\"Percentage (%) of customers who are subscribed: {subscribed / total_customers * 100:.2f}%\")\n",
    "\n",
    "# By Gender\n",
    "gender_subscribed = (customers['Subscription_Status'] == 'Yes').groupby(customers['Gender']).sum()\n",
    "print('')\n",
    "print(gender_subscribed)"
   ]
  },
  {
   "cell_type": "code",
   "execution_count": 150,
   "id": "2362f768",
   "metadata": {},
   "outputs": [
    {
     "name": "stdout",
     "output_type": "stream",
     "text": [
      "Percentage (%) of customers who purchase frequently: 41.74%\n",
      "Percentage (%) of customers who purchase frequently and are subscribed: 11.54%\n"
     ]
    }
   ],
   "source": [
    "# Percentage (%) of customers who purchase frequently (Weekly, Fortnightly, Bi-Weekly)\n",
    "purchase_frequent = (\n",
    "    (customers['Frequency_of_Purchases'] == 'Weekly') | \n",
    "    (customers['Frequency_of_Purchases'] == 'Fortnightly') | \n",
    "    (customers['Frequency_of_Purchases'] == 'Bi-Weekly') ).sum()\n",
    "\n",
    "print(f\"Percentage (%) of customers who purchase frequently: {purchase_frequent / total_customers * 100:.2f}%\")\n",
    "\n",
    "# Percentage (%) of customers who purchase frequently and are also subscribed\n",
    "subscribed_frequent = (\n",
    "    ((customers['Frequency_of_Purchases'] == 'Weekly') & (customers['Subscription_Status'] == 'Yes')) |\n",
    "    ((customers['Frequency_of_Purchases'] == 'Fortnightly') & (customers['Subscription_Status'] == 'Yes')) |\n",
    "    ((customers['Frequency_of_Purchases'] == 'Bi-Weekly') & (customers['Subscription_Status'] == 'Yes'))\n",
    ")\n",
    "\n",
    "print(f\"Percentage (%) of customers who purchase frequently and are subscribed: {subscribed_frequent.sum() / total_customers * 100:.2f}%\")"
   ]
  },
  {
   "cell_type": "markdown",
   "id": "eb047172",
   "metadata": {},
   "source": [
    "* All 3900 customers have previously purchased at this store before, but only 1053 of them (27%) are on our subscribed, whom are all men.\n",
    "\n",
    "* 41.74% of customers purchase either weekly, fortnightly, or bi-weekly -- but only 11.54% are also using the subscribed indicating that many of those who already purchase frequently could gain an advantage from becoming subscribed."
   ]
  },
  {
   "cell_type": "code",
   "execution_count": null,
   "id": "f5f5c888",
   "metadata": {},
   "outputs": [
    {
     "name": "stderr",
     "output_type": "stream",
     "text": [
      "/var/folders/th/n3xw8c_x70z41q9k952z3ct80000gn/T/ipykernel_1458/1394411217.py:3: FutureWarning: The default of observed=False is deprecated and will be changed to True in a future version of pandas. Pass observed=False to retain current behavior or observed=True to adopt the future default and silence this warning.\n",
      "  freq_sub_counts = freq_sub_age.groupby('Age_Group').size()\n"
     ]
    },
    {
     "data": {
      "image/png": "[encoded data removed]",
      "text/plain": [
       "<Figure size 600x400 with 1 Axes>"
      ]
     },
     "metadata": {},
     "output_type": "display_data"
    }
   ],
   "source": [
    "# Customers purchase frequently and are subscribed by Age Groups\n",
    "freq_sub_age = customers[subscribed_frequent]\n",
    "freq_sub_counts = freq_sub_age.groupby('Age_Group').size()\n",
    "\n",
    "# print(f\"Customers who purchase frequently and are subscribed by Age Groups:\\n\")\n",
    "# print(freq_sub_counts)\n",
    "\n",
    "plt.figure(figsize=(6, 4))\n",
    "\n",
    "freq_sub_counts.plot(kind = 'bar', \n",
    "                     color = 'skyblue')\n",
    "\n",
    "plt.title('Frequent & Subscribed Customers by Age Group')\n",
    "plt.xlabel('Age Group')\n",
    "plt.ylabel('Number of Customers')\n",
    "plt.xticks(rotation=0)\n",
    "plt.tight_layout()"
   ]
  },
  {
   "cell_type": "markdown",
   "id": "d594edc7",
   "metadata": {},
   "source": [
    "* Given we know that only men are subscribed, and we can further see that those who purchase frequently and are subscribed are men between the ages of 45 - 54. "
   ]
  },
  {
   "cell_type": "code",
   "execution_count": 173,
   "id": "fcb49fcd",
   "metadata": {},
   "outputs": [
    {
     "name": "stdout",
     "output_type": "stream",
     "text": [
      "Percentage of customers who used a promo code or discount: 43.00%\n",
      "\n",
      "Gender\n",
      "Female       0\n",
      "Male      1677\n",
      "dtype: int64\n"
     ]
    }
   ],
   "source": [
    "# Percentage(%) of customers who used a promo code or applied discount in their purchase\n",
    "promo_discount = (customers['Promo_Code_Used'] == 'Yes') | (customers['Discount_Applied'] == 'Yes')\n",
    "\n",
    "print(f\"Percentage of customers who used a promo code or discount: {promo_discount.sum() / total_customers * 100:.2f}%\")\n",
    "\n",
    "# By Gender\n",
    "print('')\n",
    "gender_promo_discount = promo_discount.groupby(customers['Gender']).sum()\n",
    "print(gender_promo_discount)"
   ]
  },
  {
   "cell_type": "markdown",
   "id": "a5b74794",
   "metadata": {},
   "source": [
    "* 43% of customers used a promo code or discount, and they were all men."
   ]
  },
  {
   "cell_type": "code",
   "execution_count": 182,
   "id": "6a8413b4",
   "metadata": {},
   "outputs": [
    {
     "data": {
      "image/png": "[encoded data removed]",
      "text/plain": [
       "<Figure size 640x480 with 1 Axes>"
      ]
     },
     "metadata": {},
     "output_type": "display_data"
    }
   ],
   "source": [
    "# Seasons that customers use promo codes or discounts the most\n",
    "promo_season = (promo_discount).groupby(customers['Season']).sum()\n",
    "\n",
    "promo_season.plot(kind='bar', \n",
    "                  color='orange')\n",
    "\n",
    "plt.title('Promo/Discount Usage by Season')\n",
    "plt.xlabel('Season')\n",
    "plt.ylabel('Number of Customers')\n",
    "plt.xticks(rotation=0)\n",
    "plt.tight_layout()\n"
   ]
  },
  {
   "cell_type": "code",
   "execution_count": null,
   "id": "c3c4b4e8",
   "metadata": {},
   "outputs": [
    {
     "data": {
      "text/html": [
       "<div>\n",
       "<style scoped>\n",
       "    .dataframe tbody tr th:only-of-type {\n",
       "        vertical-align: middle;\n",
       "    }\n",
       "\n",
       "    .dataframe tbody tr th {\n",
       "        vertical-align: top;\n",
       "    }\n",
       "\n",
       "    .dataframe thead th {\n",
       "        text-align: right;\n",
       "    }\n",
       "</style>\n",
       "<table border=\"1\" class=\"dataframe\">\n",
       "  <thead>\n",
       "    <tr style=\"text-align: right;\">\n",
       "      <th></th>\n",
       "      <th>Purchase Amount (USD)</th>\n",
       "    </tr>\n",
       "    <tr>\n",
       "      <th>Season</th>\n",
       "      <th></th>\n",
       "    </tr>\n",
       "  </thead>\n",
       "  <tbody>\n",
       "    <tr>\n",
       "      <th>Fall</th>\n",
       "      <td>60018</td>\n",
       "    </tr>\n",
       "    <tr>\n",
       "      <th>Spring</th>\n",
       "      <td>58679</td>\n",
       "    </tr>\n",
       "    <tr>\n",
       "      <th>Winter</th>\n",
       "      <td>58607</td>\n",
       "    </tr>\n",
       "    <tr>\n",
       "      <th>Summer</th>\n",
       "      <td>55777</td>\n",
       "    </tr>\n",
       "  </tbody>\n",
       "</table>\n",
       "</div>"
      ],
      "text/plain": [
       "        Purchase Amount (USD)\n",
       "Season                       \n",
       "Fall                    60018\n",
       "Spring                  58679\n",
       "Winter                  58607\n",
       "Summer                  55777"
      ]
     },
     "execution_count": 175,
     "metadata": {},
     "output_type": "execute_result"
    }
   ],
   "source": [
    "# What season generates the most revenue? \n",
    "season_revenue = pd.DataFrame(customers.groupby(['Season'])[['Purchase_Amount']].sum())\n",
    "season_revenue.sort_values(by='Purchase_Amount', ascending=False)"
   ]
  },
  {
   "cell_type": "markdown",
   "id": "0549c799",
   "metadata": {},
   "source": [
    "* Customers used promos and/or discounts the most in Spring, but use remains relatively consistent across the different seasons.\n",
    "\n",
    "* Fall season generated the most revenue"
   ]
  },
  {
   "cell_type": "code",
   "execution_count": null,
   "id": "a8a31e7e",
   "metadata": {},
   "outputs": [
    {
     "data": {
      "text/html": [
       "<div>\n",
       "<style scoped>\n",
       "    .dataframe tbody tr th:only-of-type {\n",
       "        vertical-align: middle;\n",
       "    }\n",
       "\n",
       "    .dataframe tbody tr th {\n",
       "        vertical-align: top;\n",
       "    }\n",
       "\n",
       "    .dataframe thead th {\n",
       "        text-align: right;\n",
       "    }\n",
       "</style>\n",
       "<table border=\"1\" class=\"dataframe\">\n",
       "  <thead>\n",
       "    <tr style=\"text-align: right;\">\n",
       "      <th></th>\n",
       "      <th>Purchase Amount (USD)</th>\n",
       "    </tr>\n",
       "    <tr>\n",
       "      <th>Location</th>\n",
       "      <th></th>\n",
       "    </tr>\n",
       "  </thead>\n",
       "  <tbody>\n",
       "    <tr>\n",
       "      <th>Montana</th>\n",
       "      <td>5784</td>\n",
       "    </tr>\n",
       "    <tr>\n",
       "      <th>Illinois</th>\n",
       "      <td>5617</td>\n",
       "    </tr>\n",
       "    <tr>\n",
       "      <th>California</th>\n",
       "      <td>5605</td>\n",
       "    </tr>\n",
       "    <tr>\n",
       "      <th>Idaho</th>\n",
       "      <td>5587</td>\n",
       "    </tr>\n",
       "    <tr>\n",
       "      <th>Nevada</th>\n",
       "      <td>5514</td>\n",
       "    </tr>\n",
       "  </tbody>\n",
       "</table>\n",
       "</div>"
      ],
      "text/plain": [
       "            Purchase Amount (USD)\n",
       "Location                         \n",
       "Montana                      5784\n",
       "Illinois                     5617\n",
       "California                   5605\n",
       "Idaho                        5587\n",
       "Nevada                       5514"
      ]
     },
     "execution_count": 23,
     "metadata": {},
     "output_type": "execute_result"
    }
   ],
   "source": [
    "# What locations are driving most sales?\n",
    "geographical_analysis = pd.DataFrame(customers.groupby(['Location'])[['Purchase_Amount']].sum())\n",
    "geographical_analysis.sort_values(by='Purchase_Amount', ascending=False).head(5)"
   ]
  },
  {
   "cell_type": "markdown",
   "id": "3611519b",
   "metadata": {},
   "source": [
    "---\n",
    "## K-Means Clustering"
   ]
  },
  {
   "cell_type": "markdown",
   "id": "d997ba34",
   "metadata": {},
   "source": [
    "K-Means Clustering was performed to discover potential groups based on specific variables associated with purchase behavior."
   ]
  },
  {
   "cell_type": "markdown",
   "id": "c2b07aae",
   "metadata": {},
   "source": [
    "**Preparing for K-Means** -- changing categorical variables to be numeric, selecting variables of interest"
   ]
  },
  {
   "cell_type": "code",
   "execution_count": 6,
   "id": "64d4f3aa",
   "metadata": {},
   "outputs": [],
   "source": [
    "# Categorical variables to binary 0/1\n",
    "binary_map = {'Yes': 1, 'No': 0}\n",
    "customers['Discount_Applied'] = customers['Discount_Applied'].map(binary_map)\n",
    "customers['Promo_Code_Used'] = customers['Promo_Code_Used'].map(binary_map)\n",
    "customers['Subscription_Status'] = customers['Subscription_Status'].map(binary_map)\n",
    "\n",
    "# Frequency to numeric -- monthly values\n",
    "freq_map = {\n",
    "    'Weekly': 4,\n",
    "    'Fortnightly': 2,\n",
    "    'Monthly': 1,\n",
    "    'Quarterly': 1/3,\n",
    "    'Annually': 1/12\n",
    "}\n",
    "customers['Frequency_Num'] = customers['Frequency_of_Purchases'].map(freq_map)"
   ]
  },
  {
   "cell_type": "code",
   "execution_count": 8,
   "id": "c32c14f4",
   "metadata": {},
   "outputs": [
    {
     "data": {
      "text/html": [
       "<div>\n",
       "<style scoped>\n",
       "    .dataframe tbody tr th:only-of-type {\n",
       "        vertical-align: middle;\n",
       "    }\n",
       "\n",
       "    .dataframe tbody tr th {\n",
       "        vertical-align: top;\n",
       "    }\n",
       "\n",
       "    .dataframe thead th {\n",
       "        text-align: right;\n",
       "    }\n",
       "</style>\n",
       "<table border=\"1\" class=\"dataframe\">\n",
       "  <thead>\n",
       "    <tr style=\"text-align: right;\">\n",
       "      <th></th>\n",
       "      <th>Purchase_Amount</th>\n",
       "      <th>Previous_Purchases</th>\n",
       "      <th>Review_Rating</th>\n",
       "      <th>Subscription_Status</th>\n",
       "      <th>Discount_Applied</th>\n",
       "      <th>Promo_Code_Used</th>\n",
       "      <th>Frequency_Num</th>\n",
       "    </tr>\n",
       "  </thead>\n",
       "  <tbody>\n",
       "    <tr>\n",
       "      <th>0</th>\n",
       "      <td>53</td>\n",
       "      <td>14</td>\n",
       "      <td>3.1</td>\n",
       "      <td>1</td>\n",
       "      <td>1</td>\n",
       "      <td>1</td>\n",
       "      <td>2.000000</td>\n",
       "    </tr>\n",
       "    <tr>\n",
       "      <th>1</th>\n",
       "      <td>64</td>\n",
       "      <td>2</td>\n",
       "      <td>3.1</td>\n",
       "      <td>1</td>\n",
       "      <td>1</td>\n",
       "      <td>1</td>\n",
       "      <td>2.000000</td>\n",
       "    </tr>\n",
       "    <tr>\n",
       "      <th>2</th>\n",
       "      <td>73</td>\n",
       "      <td>23</td>\n",
       "      <td>3.1</td>\n",
       "      <td>1</td>\n",
       "      <td>1</td>\n",
       "      <td>1</td>\n",
       "      <td>4.000000</td>\n",
       "    </tr>\n",
       "    <tr>\n",
       "      <th>3</th>\n",
       "      <td>90</td>\n",
       "      <td>49</td>\n",
       "      <td>3.5</td>\n",
       "      <td>1</td>\n",
       "      <td>1</td>\n",
       "      <td>1</td>\n",
       "      <td>4.000000</td>\n",
       "    </tr>\n",
       "    <tr>\n",
       "      <th>4</th>\n",
       "      <td>49</td>\n",
       "      <td>31</td>\n",
       "      <td>2.7</td>\n",
       "      <td>1</td>\n",
       "      <td>1</td>\n",
       "      <td>1</td>\n",
       "      <td>0.083333</td>\n",
       "    </tr>\n",
       "  </tbody>\n",
       "</table>\n",
       "</div>"
      ],
      "text/plain": [
       "   Purchase_Amount  Previous_Purchases  Review_Rating  Subscription_Status  \\\n",
       "0               53                  14            3.1                    1   \n",
       "1               64                   2            3.1                    1   \n",
       "2               73                  23            3.1                    1   \n",
       "3               90                  49            3.5                    1   \n",
       "4               49                  31            2.7                    1   \n",
       "\n",
       "   Discount_Applied  Promo_Code_Used  Frequency_Num  \n",
       "0                 1                1       2.000000  \n",
       "1                 1                1       2.000000  \n",
       "2                 1                1       4.000000  \n",
       "3                 1                1       4.000000  \n",
       "4                 1                1       0.083333  "
      ]
     },
     "execution_count": 8,
     "metadata": {},
     "output_type": "execute_result"
    }
   ],
   "source": [
    "# Selecting variables for clusters\n",
    "selected = ['Purchase_Amount', 'Previous_Purchases', 'Review_Rating', \n",
    "            'Subscription_Status', 'Discount_Applied', 'Promo_Code_Used', 'Frequency_Num']\n",
    "data = customers[selected]\n",
    "data.head(5)"
   ]
  },
  {
   "cell_type": "code",
   "execution_count": null,
   "id": "bf0b2115",
   "metadata": {},
   "outputs": [],
   "source": [
    "# Scaling\n",
    "scaler = StandardScaler()\n",
    "X_scaled = scaler.fit_transform(customers[selected])"
   ]
  },
  {
   "cell_type": "code",
   "execution_count": 15,
   "id": "10cbe7b7",
   "metadata": {},
   "outputs": [
    {
     "data": {
      "text/plain": [
       "Text(0.5, 1.0, 'Elbow Method For Optimal k')"
      ]
     },
     "execution_count": 15,
     "metadata": {},
     "output_type": "execute_result"
    },
    {
     "data": {
      "image/png": "[encoded data removed]",
      "text/plain": [
       "<Figure size 600x400 with 1 Axes>"
      ]
     },
     "metadata": {},
     "output_type": "display_data"
    }
   ],
   "source": [
    "# Determining optimal number of clusters (k) with Elbow Method\n",
    "inertia = []\n",
    "num_clusters = range(1, 10)\n",
    "\n",
    "for k in num_clusters: \n",
    "    k_means = KMeans(n_clusters = k, random_state = 42)\n",
    "    k_means.fit(X_scaled)\n",
    "    inertia.append(k_means.inertia_)\n",
    "\n",
    "# Elbow plot\n",
    "plt.figure(figsize=(6, 4))\n",
    "plt.plot(num_clusters, inertia)\n",
    "\n",
    "plt.xlabel('Number of Clusters')\n",
    "plt.ylabel('SSE')\n",
    "plt.title('Elbow Method For Optimal k')"
   ]
  },
  {
   "cell_type": "markdown",
   "id": "d63b0dd1",
   "metadata": {},
   "source": [
    "**With the optimal number of clusters (k) being 2, fitting K-means**"
   ]
  },
  {
   "cell_type": "code",
   "execution_count": 25,
   "id": "44c56afc",
   "metadata": {},
   "outputs": [],
   "source": [
    "# Fitting K-means with k = 2\n",
    "kmeans = KMeans(n_clusters = 2, random_state = 42)\n",
    "customers['Cluster'] = kmeans.fit_predict(X_scaled)\n",
    "\n",
    "labels = kmeans.labels_"
   ]
  },
  {
   "cell_type": "code",
   "execution_count": 45,
   "id": "a1a14089",
   "metadata": {},
   "outputs": [
    {
     "data": {
      "text/html": [
       "<div>\n",
       "<style scoped>\n",
       "    .dataframe tbody tr th:only-of-type {\n",
       "        vertical-align: middle;\n",
       "    }\n",
       "\n",
       "    .dataframe tbody tr th {\n",
       "        vertical-align: top;\n",
       "    }\n",
       "\n",
       "    .dataframe thead th {\n",
       "        text-align: right;\n",
       "    }\n",
       "</style>\n",
       "<table border=\"1\" class=\"dataframe\">\n",
       "  <thead>\n",
       "    <tr style=\"text-align: right;\">\n",
       "      <th></th>\n",
       "      <th>Purchase_Amount</th>\n",
       "      <th>Previous_Purchases</th>\n",
       "      <th>Review_Rating</th>\n",
       "      <th>Subscription_Status</th>\n",
       "      <th>Discount_Applied</th>\n",
       "      <th>Promo_Code_Used</th>\n",
       "      <th>Frequency_Num</th>\n",
       "    </tr>\n",
       "  </thead>\n",
       "  <tbody>\n",
       "    <tr>\n",
       "      <th>0</th>\n",
       "      <td>-0.020492</td>\n",
       "      <td>0.027099</td>\n",
       "      <td>-0.014375</td>\n",
       "      <td>0.806170</td>\n",
       "      <td>1.151339</td>\n",
       "      <td>1.151339</td>\n",
       "      <td>0.005048</td>\n",
       "    </tr>\n",
       "    <tr>\n",
       "      <th>1</th>\n",
       "      <td>0.015459</td>\n",
       "      <td>-0.020443</td>\n",
       "      <td>0.010844</td>\n",
       "      <td>-0.608164</td>\n",
       "      <td>-0.868554</td>\n",
       "      <td>-0.868554</td>\n",
       "      <td>-0.003808</td>\n",
       "    </tr>\n",
       "  </tbody>\n",
       "</table>\n",
       "</div>"
      ],
      "text/plain": [
       "   Purchase_Amount  Previous_Purchases  Review_Rating  Subscription_Status  \\\n",
       "0        -0.020492            0.027099      -0.014375             0.806170   \n",
       "1         0.015459           -0.020443       0.010844            -0.608164   \n",
       "\n",
       "   Discount_Applied  Promo_Code_Used  Frequency_Num  \n",
       "0          1.151339         1.151339       0.005048  \n",
       "1         -0.868554        -0.868554      -0.003808  "
      ]
     },
     "execution_count": 45,
     "metadata": {},
     "output_type": "execute_result"
    }
   ],
   "source": [
    "# Cluster centers (centroids)\n",
    "centroids = kmeans.cluster_centers_\n",
    "centroids_df = pd.DataFrame(centroids, columns = data.columns)\n",
    "centroids_df"
   ]
  },
  {
   "cell_type": "code",
   "execution_count": 86,
   "id": "dcf88774",
   "metadata": {},
   "outputs": [
    {
     "data": {
      "text/plain": [
       "Text(0, 0.5, 'Variables')"
      ]
     },
     "execution_count": 86,
     "metadata": {},
     "output_type": "execute_result"
    },
    {
     "data": {
      "image/png": "[encoded data removed]",
      "text/plain": [
       "<Figure size 600x400 with 1 Axes>"
      ]
     },
     "metadata": {},
     "output_type": "display_data"
    }
   ],
   "source": [
    "# Visualizing centroids to see relationship of selected variables with across clusters\n",
    "centroids_df['Clusters'] = centroids_df.index\n",
    "centroids_melt = centroids_df.melt(id_vars = 'Clusters')\n",
    "\n",
    "plt.figure(figsize=(6, 4))\n",
    "sns.barplot(y = 'variable', \n",
    "            x = 'value', \n",
    "            hue = 'Clusters', \n",
    "            data = centroids_melt)\n",
    "\n",
    "plt.title(\"Cluster Centroids Across Variables\")\n",
    "plt.xlabel(\"Z-Scores\")\n",
    "plt.ylabel(\"Variables\")"
   ]
  },
  {
   "cell_type": "markdown",
   "id": "1596bf12",
   "metadata": {},
   "source": [
    "The 3 variables that are likely the main drivers of this segmentation is Subscription Status, Discount Applied, and Promo Code Used. \n",
    "\n",
    "Customers in cluster 0 are more likely to be subscribed as well as use discounts and/or promos, whereas customers in cluster 1 are more likely to not be subscribed, use discounts, or promos."
   ]
  },
  {
   "cell_type": "markdown",
   "id": "bfe746c9",
   "metadata": {},
   "source": [
    "**Analyzing Clusters**"
   ]
  },
  {
   "cell_type": "code",
   "execution_count": 87,
   "id": "4adfa66f",
   "metadata": {},
   "outputs": [
    {
     "data": {
      "text/html": [
       "<div>\n",
       "<style scoped>\n",
       "    .dataframe tbody tr th:only-of-type {\n",
       "        vertical-align: middle;\n",
       "    }\n",
       "\n",
       "    .dataframe tbody tr th {\n",
       "        vertical-align: top;\n",
       "    }\n",
       "\n",
       "    .dataframe thead th {\n",
       "        text-align: right;\n",
       "    }\n",
       "</style>\n",
       "<table border=\"1\" class=\"dataframe\">\n",
       "  <thead>\n",
       "    <tr style=\"text-align: right;\">\n",
       "      <th></th>\n",
       "      <th>Purchase_Amount</th>\n",
       "      <th>Previous_Purchases</th>\n",
       "      <th>Review_Rating</th>\n",
       "      <th>Subscription_Status</th>\n",
       "      <th>Discount_Applied</th>\n",
       "      <th>Promo_Code_Used</th>\n",
       "      <th>Frequency_Num</th>\n",
       "    </tr>\n",
       "    <tr>\n",
       "      <th>Cluster</th>\n",
       "      <th></th>\n",
       "      <th></th>\n",
       "      <th></th>\n",
       "      <th></th>\n",
       "      <th></th>\n",
       "      <th></th>\n",
       "      <th></th>\n",
       "    </tr>\n",
       "  </thead>\n",
       "  <tbody>\n",
       "    <tr>\n",
       "      <th>0</th>\n",
       "      <td>59.279070</td>\n",
       "      <td>25.742993</td>\n",
       "      <td>3.739654</td>\n",
       "      <td>0.627907</td>\n",
       "      <td>1.0</td>\n",
       "      <td>1.0</td>\n",
       "      <td>1.369807</td>\n",
       "    </tr>\n",
       "    <tr>\n",
       "      <th>1</th>\n",
       "      <td>60.130454</td>\n",
       "      <td>25.056230</td>\n",
       "      <td>3.757715</td>\n",
       "      <td>0.000000</td>\n",
       "      <td>0.0</td>\n",
       "      <td>0.0</td>\n",
       "      <td>1.358450</td>\n",
       "    </tr>\n",
       "  </tbody>\n",
       "</table>\n",
       "</div>"
      ],
      "text/plain": [
       "         Purchase_Amount  Previous_Purchases  Review_Rating  \\\n",
       "Cluster                                                       \n",
       "0              59.279070           25.742993       3.739654   \n",
       "1              60.130454           25.056230       3.757715   \n",
       "\n",
       "         Subscription_Status  Discount_Applied  Promo_Code_Used  Frequency_Num  \n",
       "Cluster                                                                         \n",
       "0                   0.627907               1.0              1.0       1.369807  \n",
       "1                   0.000000               0.0              0.0       1.358450  "
      ]
     },
     "execution_count": 87,
     "metadata": {},
     "output_type": "execute_result"
    }
   ],
   "source": [
    "#Analyzing Clusters\n",
    "    #selected is the selected variables for clusters as a list\n",
    "cluster_summary = customers.groupby('Cluster')[selected].mean()\n",
    "cluster_summary\n"
   ]
  },
  {
   "cell_type": "markdown",
   "id": "94e84103",
   "metadata": {},
   "source": [
    "**Demographics across cluster groups**"
   ]
  },
  {
   "cell_type": "code",
   "execution_count": 98,
   "id": "e74eaed9",
   "metadata": {},
   "outputs": [
    {
     "data": {
      "text/plain": [
       "Cluster\n",
       "0    44.144902\n",
       "1    44.010796\n",
       "Name: Age, dtype: float64"
      ]
     },
     "execution_count": 98,
     "metadata": {},
     "output_type": "execute_result"
    }
   ],
   "source": [
    "# Age\n",
    "customers.groupby('Cluster')['Age'].mean()\n"
   ]
  },
  {
   "cell_type": "code",
   "execution_count": 108,
   "id": "698011ab",
   "metadata": {},
   "outputs": [
    {
     "data": {
      "text/plain": [
       "Cluster  Gender\n",
       "0        Male      1.000000\n",
       "1        Female    0.561404\n",
       "         Male      0.438596\n",
       "Name: proportion, dtype: float64"
      ]
     },
     "execution_count": 108,
     "metadata": {},
     "output_type": "execute_result"
    }
   ],
   "source": [
    "# Gender\n",
    "customers.groupby('Cluster')['Gender'].value_counts(normalize=True)"
   ]
  },
  {
   "cell_type": "markdown",
   "id": "0e14ef77",
   "metadata": {},
   "source": [
    "---\n",
    "## Strategic Recommendations"
   ]
  },
  {
   "cell_type": "markdown",
   "id": "a4baebab",
   "metadata": {},
   "source": [
    "* What are the customer segments based on purchase behavior?\n",
    "\n",
    "* What customers are currently driving the most revenue?\n",
    "\n",
    "* Which customers purchase the most frequently?\n",
    "\n",
    "* Which customers uses promotions or discounts the most?\n",
    "\n",
    "* Are there customers we could likely convert to subsciption?\n",
    "\n",
    "* What products and categories are most popular? \n",
    "\n",
    "* When is the best season to promote the business?"
   ]
  },
  {
   "cell_type": "markdown",
   "id": "b3c8ddb2",
   "metadata": {},
   "source": [
    "* Overall, men seem to be the highest spenders, bringing the most revenue to the store. \n",
    "\n",
    "* Among them, the age range from 25 - 34 seem to spend the most, closely followed by age ranges 45 - 54, 35 - 44, and 55 - 64. \n",
    "\n",
    "---\n",
    "* The average age of customers purchasing from this shop is 44 years old. Most of the customers are also male. \n",
    "\n",
    "* The most popular category purchased is clothing. The most popular item purchased is a blouse.\n",
    "\n",
    "* The most purchases happen in Spring.\n",
    "\n",
    "* Most customers are not subscribed and don't use discounts and/or promos.\n",
    "\n",
    "--- \n",
    "* All 3900 customers have previously purchased at this store before, but only 1053 of them (27%) are on our subscribed, whom are all men.\n",
    "\n",
    "* 41.74% of customers purchase either weekly, fortnightly, or bi-weekly -- but only 11.54% are also using the subscribed indicating that many of those who already purchase frequently could gain an advantage from becoming subscribed.\n",
    "\n",
    "---\n",
    "* Given we know that only men are subscribed, and we can further see that those who purchase frequently and are subscribed are men between the ages of 45 - 54. \n",
    "---\n",
    "* 43% of customers used a promo code or discount, and they were all men.\n",
    "\n",
    "---\n",
    "* Customers used promos and/or discounts the most in Spring, but use remains relatively consistent across the different seasons.\n",
    "\n",
    "* Fall season generated the most revenue"
   ]
  }
 ],
 "metadata": {
  "kernelspec": {
   "display_name": "Python 3",
   "language": "python",
   "name": "python3"
  },
  "language_info": {
   "codemirror_mode": {
    "name": "ipython",
    "version": 3
   },
   "file_extension": ".py",
   "mimetype": "text/x-python",
   "name": "python",
   "nbconvert_exporter": "python",
   "pygments_lexer": "ipython3",
   "version": "3.13.3"
  }
 },
 "nbformat": 4,
 "nbformat_minor": 5
}
